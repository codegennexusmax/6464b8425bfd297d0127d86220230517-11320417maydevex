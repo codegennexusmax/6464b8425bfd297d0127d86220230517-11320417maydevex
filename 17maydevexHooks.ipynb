{
 "cells": [
  {
   "cell_type": "markdown",
   "id": "e8ecba1f",
   "metadata": {},
   "source": [
    "***EXTENSIONS FOR 17maydevex PIPELINE YOU CAN EDIT THESE EXTENSIONS***"
   ]
  },
  {
   "cell_type": "markdown",
   "id": "904353d7",
   "metadata": {},
   "source": [
    "***EXTENSIONS FOR SOURCE STAGE***"
   ]
  },
  {
   "cell_type": "code",
   "execution_count": null,
   "id": "d5b08aaf",
   "metadata": {},
   "outputs": [],
   "source": [
    "def sourcePreExecutionHook():\n",
    "\tprint('inside source pre execution hook')\n",
    "\n",
    "\n",
    "def sourcePostExecutionHook(data):\n",
    "\tprint('inside source post execution hook')\n",
    "\n",
    "\n"
   ]
  },
  {
   "cell_type": "markdown",
   "id": "38113e66",
   "metadata": {},
   "source": [
    "***EXTENSIONS FOR OPERATION STAGE***"
   ]
  },
  {
   "cell_type": "code",
   "execution_count": null,
   "id": "02662ae4",
   "metadata": {},
   "outputs": [],
   "source": [
    "def operationPreExecutionHook():\n",
    "\tprint('inside operation pre execution hook')\n",
    "\n",
    "\n",
    "def operationPostExecutionHook(data):\n",
    "\tprint('inside operation post execution hook')\n",
    "\n",
    "\n"
   ]
  },
  {
   "cell_type": "markdown",
   "id": "10b65048",
   "metadata": {},
   "source": [
    "***EXTENSIONS FOR SINK STAGE***"
   ]
  },
  {
   "cell_type": "code",
   "execution_count": null,
   "id": "46788352",
   "metadata": {},
   "outputs": [],
   "source": [
    "def sinkPreExecutionHook():\n",
    "\tprint('inside sink pre execution hook')\n",
    "\n",
    "\n",
    "def sinkPostExecutionHook(data):\n",
    "\tprint('inside sink post execution hook')\n",
    "\n",
    "\n"
   ]
  }
 ],
 "metadata": {},
 "nbformat": 4,
 "nbformat_minor": 5
}
